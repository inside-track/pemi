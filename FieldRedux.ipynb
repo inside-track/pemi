{
 "cells": [
  {
   "cell_type": "markdown",
   "metadata": {},
   "source": [
    "A schema is clearly a named, ordered, collection of fields\n",
    "\n",
    "So.... what is a field?\n",
    "\n",
    "In Pemi, fields could more specifically be called \"field converters\".\n",
    "  - we use them to convert a data element from one format to another (e.g., csv->Pandas, Pandas->Postgres, Spark->CSV, etc)\n",
    "  - and we use them to build dummy data in the tests\n",
    "  - and we use them to validate that the data being read is compatible with what is expected\n",
    "  - But I'm not sure coercion should be wrapped up with validation.\n",
    "  \n",
    "\n",
    "\n",
    "\n"
   ]
  },
  {
   "cell_type": "code",
   "execution_count": 39,
   "metadata": {},
   "outputs": [
    {
     "name": "stdout",
     "output_type": "stream",
     "text": [
      "ValueError\n"
     ]
    },
    {
     "ename": "CoercionError",
     "evalue": "ValueError: time data '2017-31-31' does not match format '%Y-%m-%d'",
     "output_type": "error",
     "traceback": [
      "\u001b[0;31m---------------------------------------------------------------------------\u001b[0m",
      "\u001b[0;31mValueError\u001b[0m                                Traceback (most recent call last)",
      "\u001b[0;32m<ipython-input-39-383ea7efdd57>\u001b[0m in \u001b[0;36m<module>\u001b[0;34m()\u001b[0m\n\u001b[1;32m      5\u001b[0m \u001b[0;32mtry\u001b[0m\u001b[0;34m:\u001b[0m\u001b[0;34m\u001b[0m\u001b[0m\n\u001b[0;32m----> 6\u001b[0;31m     \u001b[0mdatetime\u001b[0m\u001b[0;34m.\u001b[0m\u001b[0mdatetime\u001b[0m\u001b[0;34m.\u001b[0m\u001b[0mstrptime\u001b[0m\u001b[0;34m(\u001b[0m\u001b[0;34m'2017-31-31'\u001b[0m\u001b[0;34m,\u001b[0m \u001b[0;34m'%Y-%m-%d'\u001b[0m\u001b[0;34m)\u001b[0m\u001b[0;34m\u001b[0m\u001b[0m\n\u001b[0m\u001b[1;32m      7\u001b[0m \u001b[0;32mexcept\u001b[0m \u001b[0mValueError\u001b[0m \u001b[0;32mas\u001b[0m \u001b[0merr\u001b[0m\u001b[0;34m:\u001b[0m\u001b[0;34m\u001b[0m\u001b[0m\n",
      "\u001b[0;32m/opt/conda/lib/python3.6/_strptime.py\u001b[0m in \u001b[0;36m_strptime_datetime\u001b[0;34m(cls, data_string, format)\u001b[0m\n\u001b[1;32m    564\u001b[0m     format string.\"\"\"\n\u001b[0;32m--> 565\u001b[0;31m     \u001b[0mtt\u001b[0m\u001b[0;34m,\u001b[0m \u001b[0mfraction\u001b[0m \u001b[0;34m=\u001b[0m \u001b[0m_strptime\u001b[0m\u001b[0;34m(\u001b[0m\u001b[0mdata_string\u001b[0m\u001b[0;34m,\u001b[0m \u001b[0mformat\u001b[0m\u001b[0;34m)\u001b[0m\u001b[0;34m\u001b[0m\u001b[0m\n\u001b[0m\u001b[1;32m    566\u001b[0m     \u001b[0mtzname\u001b[0m\u001b[0;34m,\u001b[0m \u001b[0mgmtoff\u001b[0m \u001b[0;34m=\u001b[0m \u001b[0mtt\u001b[0m\u001b[0;34m[\u001b[0m\u001b[0;34m-\u001b[0m\u001b[0;36m2\u001b[0m\u001b[0;34m:\u001b[0m\u001b[0;34m]\u001b[0m\u001b[0;34m\u001b[0m\u001b[0m\n",
      "\u001b[0;32m/opt/conda/lib/python3.6/_strptime.py\u001b[0m in \u001b[0;36m_strptime\u001b[0;34m(data_string, format)\u001b[0m\n\u001b[1;32m    361\u001b[0m         raise ValueError(\"time data %r does not match format %r\" %\n\u001b[0;32m--> 362\u001b[0;31m                          (data_string, format))\n\u001b[0m\u001b[1;32m    363\u001b[0m     \u001b[0;32mif\u001b[0m \u001b[0mlen\u001b[0m\u001b[0;34m(\u001b[0m\u001b[0mdata_string\u001b[0m\u001b[0;34m)\u001b[0m \u001b[0;34m!=\u001b[0m \u001b[0mfound\u001b[0m\u001b[0;34m.\u001b[0m\u001b[0mend\u001b[0m\u001b[0;34m(\u001b[0m\u001b[0;34m)\u001b[0m\u001b[0;34m:\u001b[0m\u001b[0;34m\u001b[0m\u001b[0m\n",
      "\u001b[0;31mValueError\u001b[0m: time data '2017-31-31' does not match format '%Y-%m-%d'",
      "\nDuring handling of the above exception, another exception occurred:\n",
      "\u001b[0;31mCoercionError\u001b[0m                             Traceback (most recent call last)",
      "\u001b[0;32m<ipython-input-39-383ea7efdd57>\u001b[0m in \u001b[0;36m<module>\u001b[0;34m()\u001b[0m\n\u001b[1;32m      7\u001b[0m \u001b[0;32mexcept\u001b[0m \u001b[0mValueError\u001b[0m \u001b[0;32mas\u001b[0m \u001b[0merr\u001b[0m\u001b[0;34m:\u001b[0m\u001b[0;34m\u001b[0m\u001b[0m\n\u001b[1;32m      8\u001b[0m     \u001b[0mprint\u001b[0m\u001b[0;34m(\u001b[0m\u001b[0merr\u001b[0m\u001b[0;34m.\u001b[0m\u001b[0m__class__\u001b[0m\u001b[0;34m.\u001b[0m\u001b[0m__name__\u001b[0m\u001b[0;34m)\u001b[0m\u001b[0;34m\u001b[0m\u001b[0m\n\u001b[0;32m----> 9\u001b[0;31m     \u001b[0;32mraise\u001b[0m \u001b[0mCoercionError\u001b[0m\u001b[0;34m(\u001b[0m\u001b[0;34m'{}: {}'\u001b[0m\u001b[0;34m.\u001b[0m\u001b[0mformat\u001b[0m\u001b[0;34m(\u001b[0m\u001b[0merr\u001b[0m\u001b[0;34m.\u001b[0m\u001b[0m__class__\u001b[0m\u001b[0;34m.\u001b[0m\u001b[0m__name__\u001b[0m\u001b[0;34m,\u001b[0m \u001b[0merr\u001b[0m\u001b[0;34m)\u001b[0m\u001b[0;34m)\u001b[0m\u001b[0;34m\u001b[0m\u001b[0m\n\u001b[0m",
      "\u001b[0;31mCoercionError\u001b[0m: ValueError: time data '2017-31-31' does not match format '%Y-%m-%d'"
     ]
    }
   ],
   "source": [
    "import datetime\n",
    "\n",
    "class CoercionError(ValueError): pass\n",
    "\n",
    "try:\n",
    "    datetime.datetime.strptime('2017-31-31', '%Y-%m-%d')\n",
    "except ValueError as err:\n",
    "    print(err.__class__.__name__)\n",
    "    raise CoercionError('{}: {}'.format(err.__class__.__name__, err))\n"
   ]
  },
  {
   "cell_type": "code",
   "execution_count": 48,
   "metadata": {},
   "outputs": [
    {
     "ename": "CoercionError",
     "evalue": "Unable to coerce value \"8..25\" to DecimalField: InvalidOperation: [<class 'decimal.ConversionSyntax'>]",
     "output_type": "error",
     "traceback": [
      "\u001b[0;31m---------------------------------------------------------------------------\u001b[0m",
      "\u001b[0;31mInvalidOperation\u001b[0m                          Traceback (most recent call last)",
      "\u001b[0;32m<ipython-input-48-8ab8bfffce7f>\u001b[0m in \u001b[0;36mwrapper\u001b[0;34m(self, value)\u001b[0m\n\u001b[1;32m      6\u001b[0m         \u001b[0;32mtry\u001b[0m\u001b[0;34m:\u001b[0m\u001b[0;34m\u001b[0m\u001b[0m\n\u001b[0;32m----> 7\u001b[0;31m             \u001b[0mcoerced\u001b[0m \u001b[0;34m=\u001b[0m \u001b[0mfun\u001b[0m\u001b[0;34m(\u001b[0m\u001b[0mself\u001b[0m\u001b[0;34m,\u001b[0m \u001b[0mvalue\u001b[0m\u001b[0;34m)\u001b[0m\u001b[0;34m\u001b[0m\u001b[0m\n\u001b[0m\u001b[1;32m      8\u001b[0m         \u001b[0;32mexcept\u001b[0m \u001b[0mException\u001b[0m \u001b[0;32mas\u001b[0m \u001b[0merr\u001b[0m\u001b[0;34m:\u001b[0m\u001b[0;34m\u001b[0m\u001b[0m\n",
      "\u001b[0;32m<ipython-input-48-8ab8bfffce7f>\u001b[0m in \u001b[0;36mcoerce\u001b[0;34m(self, value)\u001b[0m\n\u001b[1;32m     54\u001b[0m         \u001b[0;32melse\u001b[0m\u001b[0;34m:\u001b[0m\u001b[0;34m\u001b[0m\u001b[0m\n\u001b[0;32m---> 55\u001b[0;31m             \u001b[0mdec\u001b[0m \u001b[0;34m=\u001b[0m \u001b[0mdecimal\u001b[0m\u001b[0;34m.\u001b[0m\u001b[0mDecimal\u001b[0m\u001b[0;34m(\u001b[0m\u001b[0mstr\u001b[0m\u001b[0;34m(\u001b[0m\u001b[0mvalue\u001b[0m\u001b[0;34m)\u001b[0m\u001b[0;34m)\u001b[0m\u001b[0;34m\u001b[0m\u001b[0m\n\u001b[0m\u001b[1;32m     56\u001b[0m             \u001b[0;32mreturn\u001b[0m \u001b[0mdec\u001b[0m\u001b[0;34m\u001b[0m\u001b[0m\n",
      "\u001b[0;31mInvalidOperation\u001b[0m: [<class 'decimal.ConversionSyntax'>]",
      "\nDuring handling of the above exception, another exception occurred:\n",
      "\u001b[0;31mCoercionError\u001b[0m                             Traceback (most recent call last)",
      "\u001b[0;32m<ipython-input-48-8ab8bfffce7f>\u001b[0m in \u001b[0;36m<module>\u001b[0;34m()\u001b[0m\n\u001b[1;32m     88\u001b[0m \u001b[0;34m\u001b[0m\u001b[0m\n\u001b[1;32m     89\u001b[0m \u001b[0md1\u001b[0m \u001b[0;34m=\u001b[0m \u001b[0mDecimalField\u001b[0m\u001b[0;34m(\u001b[0m\u001b[0;34m'd1'\u001b[0m\u001b[0;34m,\u001b[0m \u001b[0mprecision\u001b[0m\u001b[0;34m=\u001b[0m\u001b[0;36m8\u001b[0m\u001b[0;34m,\u001b[0m \u001b[0mscale\u001b[0m\u001b[0;34m=\u001b[0m\u001b[0;36m2\u001b[0m\u001b[0;34m,\u001b[0m \u001b[0menforce_decimal\u001b[0m\u001b[0;34m=\u001b[0m\u001b[0;32mTrue\u001b[0m\u001b[0;34m,\u001b[0m \u001b[0mvalidators\u001b[0m\u001b[0;34m=\u001b[0m\u001b[0;34m[\u001b[0m\u001b[0mDecimalValidator\u001b[0m\u001b[0;34m]\u001b[0m\u001b[0;34m)\u001b[0m\u001b[0;34m\u001b[0m\u001b[0m\n\u001b[0;32m---> 90\u001b[0;31m \u001b[0mprint\u001b[0m\u001b[0;34m(\u001b[0m\u001b[0md1\u001b[0m\u001b[0;34m.\u001b[0m\u001b[0mcoerce\u001b[0m\u001b[0;34m(\u001b[0m\u001b[0;34m'8..25'\u001b[0m\u001b[0;34m)\u001b[0m\u001b[0;34m)\u001b[0m\u001b[0;34m\u001b[0m\u001b[0m\n\u001b[0m\u001b[1;32m     91\u001b[0m \u001b[0;34m\u001b[0m\u001b[0m\n\u001b[1;32m     92\u001b[0m \u001b[0;31m# try:\u001b[0m\u001b[0;34m\u001b[0m\u001b[0;34m\u001b[0m\u001b[0m\n",
      "\u001b[0;32m<ipython-input-48-8ab8bfffce7f>\u001b[0m in \u001b[0;36mwrapper\u001b[0;34m(self, value)\u001b[0m\n\u001b[1;32m      7\u001b[0m             \u001b[0mcoerced\u001b[0m \u001b[0;34m=\u001b[0m \u001b[0mfun\u001b[0m\u001b[0;34m(\u001b[0m\u001b[0mself\u001b[0m\u001b[0;34m,\u001b[0m \u001b[0mvalue\u001b[0m\u001b[0;34m)\u001b[0m\u001b[0;34m\u001b[0m\u001b[0m\n\u001b[1;32m      8\u001b[0m         \u001b[0;32mexcept\u001b[0m \u001b[0mException\u001b[0m \u001b[0;32mas\u001b[0m \u001b[0merr\u001b[0m\u001b[0;34m:\u001b[0m\u001b[0;34m\u001b[0m\u001b[0m\n\u001b[0;32m----> 9\u001b[0;31m             \u001b[0;32mraise\u001b[0m \u001b[0mCoercionError\u001b[0m\u001b[0;34m(\u001b[0m\u001b[0;34m'Unable to coerce value \"{}\" to {}: {}: {}'\u001b[0m\u001b[0;34m.\u001b[0m\u001b[0mformat\u001b[0m\u001b[0;34m(\u001b[0m\u001b[0mvalue\u001b[0m\u001b[0;34m,\u001b[0m \u001b[0mself\u001b[0m\u001b[0;34m.\u001b[0m\u001b[0m__class__\u001b[0m\u001b[0;34m.\u001b[0m\u001b[0m__name__\u001b[0m\u001b[0;34m,\u001b[0m \u001b[0merr\u001b[0m\u001b[0;34m.\u001b[0m\u001b[0m__class__\u001b[0m\u001b[0;34m.\u001b[0m\u001b[0m__name__\u001b[0m\u001b[0;34m,\u001b[0m \u001b[0merr\u001b[0m\u001b[0;34m)\u001b[0m\u001b[0;34m)\u001b[0m\u001b[0;34m\u001b[0m\u001b[0m\n\u001b[0m\u001b[1;32m     10\u001b[0m         \u001b[0;32mreturn\u001b[0m \u001b[0mcoerced\u001b[0m\u001b[0;34m\u001b[0m\u001b[0m\n\u001b[1;32m     11\u001b[0m     \u001b[0;32mreturn\u001b[0m \u001b[0mwrapper\u001b[0m\u001b[0;34m\u001b[0m\u001b[0m\n",
      "\u001b[0;31mCoercionError\u001b[0m: Unable to coerce value \"8..25\" to DecimalField: InvalidOperation: [<class 'decimal.ConversionSyntax'>]"
     ]
    }
   ],
   "source": [
    "class CoercionError(ValueError): pass\n",
    "    \n",
    "    \n",
    "def convert_exception(fun):\n",
    "    def wrapper(self, value):\n",
    "        try:\n",
    "            coerced = fun(self, value)\n",
    "        except Exception as err:\n",
    "            raise CoercionError('Unable to coerce value \"{}\" to {}: {}: {}'.format(value, self.__class__.__name__, err.__class__.__name__, err))\n",
    "        return coerced\n",
    "    return wrapper\n",
    "\n",
    "\n",
    "class Field():\n",
    "    def __init__(self, name=None, validators=[], **metadata):\n",
    "        self.name = name\n",
    "        self.metadata = metadata\n",
    "        \n",
    "        default_metadata = {'null': None}\n",
    "        self.metadata = {**default_metadata, **metadata}\n",
    "        self.null = self.metadata['null']\n",
    "        \n",
    "    @convert_exception\n",
    "    def coerce(self, value):\n",
    "        raise NotImplementedError\n",
    "\n",
    "    def __str__(self):\n",
    "        return self.__dict__.__str__()\n",
    "        \n",
    "        \n",
    "class StringField(Field):\n",
    "    def __init__(self, name=None, validators=[], **metadata):\n",
    "        super().__init__(name=name, validators=validators, null='', **metadata)\n",
    "    \n",
    "    @convert_exception\n",
    "    def coerce(self, value):\n",
    "        if not value:\n",
    "            return self.null\n",
    "        else:\n",
    "            return str(value)\n",
    "\n",
    "\n",
    "class DecimalField(Field):\n",
    "    def __init__(self, name=None, validators=[], **metadata):\n",
    "        super().__init__(name=name, validators=validators, **metadata)\n",
    "        self.precision = self.metadata['precision']\n",
    "        self.scale = self.metadata['scale']\n",
    "    \n",
    "    @convert_exception\n",
    "    def coerce(self, value):\n",
    "        if not value:\n",
    "            return self.null\n",
    "        else:\n",
    "            dec = decimal.Decimal(str(value))\n",
    "            return dec\n",
    "        \n",
    "        \n",
    "        \n",
    "# my_schema = Schema(**{\n",
    "#     'id': IntegerField(allow_null=False, is_awesome=True),\n",
    "#     'name': StringField(),\n",
    "#     'price': DecimalField(precision=6, scale=2)\n",
    "# })\n",
    "\n",
    "# Schema(\n",
    "#     IntegerField('id', allow_null=False, is_awesome=True),\n",
    "#     StringField('name'),\n",
    "#     DecimalField('price', precision=6, scale=2)\n",
    "# )\n",
    "\n",
    "# Schema(\n",
    "#     id=IntegerField(allow_null=False, is_awesome=True),\n",
    "#     name=StringField(),\n",
    "#     price=DecimalField(precision=6, scale=2)\n",
    "# )\n",
    "\n",
    "#s = StringField(name = 'myname')\n",
    "#s.in_coerce(None)\n",
    "\n",
    "#s2 = StringField(name = 'myname', allow_null=False, validators=[NullValidator])\n",
    "#s2 = StringField(name = 'myname', allow_null=False)\n",
    "#s2.in_coerce(None)\n",
    "\n",
    "\n",
    "import decimal\n",
    "# import datetime\n",
    "\n",
    "d1 = DecimalField('d1', precision=8, scale=2, enforce_decimal=True, validators=[DecimalValidator])\n",
    "print(d1.coerce('8..25'))\n",
    "\n",
    "# try:\n",
    "#     d1.in_coerce('8.253')\n",
    "# except DecimalValidationError as err:\n",
    "#     print(err)\n",
    "\n",
    "# print(d1.in_coerce(None))\n",
    "# print(d1.in_coerce(''))\n",
    "# print(d1.in_coerce(float('NaN')).__class__)\n",
    "\n",
    "\n"
   ]
  },
  {
   "cell_type": "code",
   "execution_count": 23,
   "metadata": {},
   "outputs": [
    {
     "ename": "RequiredValueError",
     "evalue": "Expecting non-null, but \"\" found instead",
     "output_type": "error",
     "traceback": [
      "\u001b[0;31m---------------------------------------------------------------------------\u001b[0m",
      "\u001b[0;31mRequiredValueError\u001b[0m                        Traceback (most recent call last)",
      "\u001b[0;32m<ipython-input-23-38df49833f76>\u001b[0m in \u001b[0;36m<module>\u001b[0;34m()\u001b[0m\n\u001b[1;32m    152\u001b[0m \u001b[0;31m#s2 = StringField(name = 'myname', allow_null=False, validators=[NullValidator])\u001b[0m\u001b[0;34m\u001b[0m\u001b[0;34m\u001b[0m\u001b[0m\n\u001b[1;32m    153\u001b[0m \u001b[0ms2\u001b[0m \u001b[0;34m=\u001b[0m \u001b[0mStringField\u001b[0m\u001b[0;34m(\u001b[0m\u001b[0mname\u001b[0m \u001b[0;34m=\u001b[0m \u001b[0;34m'myname'\u001b[0m\u001b[0;34m,\u001b[0m \u001b[0mallow_null\u001b[0m\u001b[0;34m=\u001b[0m\u001b[0;32mFalse\u001b[0m\u001b[0;34m)\u001b[0m\u001b[0;34m\u001b[0m\u001b[0m\n\u001b[0;32m--> 154\u001b[0;31m \u001b[0ms2\u001b[0m\u001b[0;34m.\u001b[0m\u001b[0min_coerce\u001b[0m\u001b[0;34m(\u001b[0m\u001b[0;32mNone\u001b[0m\u001b[0;34m)\u001b[0m\u001b[0;34m\u001b[0m\u001b[0m\n\u001b[0m\u001b[1;32m    155\u001b[0m \u001b[0;34m\u001b[0m\u001b[0m\n\u001b[1;32m    156\u001b[0m \u001b[0;34m\u001b[0m\u001b[0m\n",
      "\u001b[0;32m<ipython-input-23-38df49833f76>\u001b[0m in \u001b[0;36mwrapper\u001b[0;34m(self, value)\u001b[0m\n\u001b[1;32m     69\u001b[0m     \u001b[0;32mdef\u001b[0m \u001b[0mwrapper\u001b[0m\u001b[0;34m(\u001b[0m\u001b[0mself\u001b[0m\u001b[0;34m,\u001b[0m \u001b[0mvalue\u001b[0m\u001b[0;34m)\u001b[0m\u001b[0;34m:\u001b[0m\u001b[0;34m\u001b[0m\u001b[0m\n\u001b[1;32m     70\u001b[0m         \u001b[0mcoerced\u001b[0m \u001b[0;34m=\u001b[0m \u001b[0min_coerce\u001b[0m\u001b[0;34m(\u001b[0m\u001b[0mself\u001b[0m\u001b[0;34m,\u001b[0m \u001b[0mvalue\u001b[0m\u001b[0;34m)\u001b[0m\u001b[0;34m\u001b[0m\u001b[0m\n\u001b[0;32m---> 71\u001b[0;31m         \u001b[0;34m[\u001b[0m\u001b[0mv\u001b[0m\u001b[0;34m.\u001b[0m\u001b[0mvalidate\u001b[0m\u001b[0;34m(\u001b[0m\u001b[0mcoerced\u001b[0m\u001b[0;34m)\u001b[0m \u001b[0;32mfor\u001b[0m \u001b[0mv\u001b[0m \u001b[0;32min\u001b[0m \u001b[0mself\u001b[0m\u001b[0;34m.\u001b[0m\u001b[0mvalidators\u001b[0m\u001b[0;34m]\u001b[0m\u001b[0;34m\u001b[0m\u001b[0m\n\u001b[0m\u001b[1;32m     72\u001b[0m         \u001b[0;32mreturn\u001b[0m \u001b[0mcoerced\u001b[0m\u001b[0;34m\u001b[0m\u001b[0m\n\u001b[1;32m     73\u001b[0m     \u001b[0;32mreturn\u001b[0m \u001b[0mwrapper\u001b[0m\u001b[0;34m\u001b[0m\u001b[0m\n",
      "\u001b[0;32m<ipython-input-23-38df49833f76>\u001b[0m in \u001b[0;36m<listcomp>\u001b[0;34m(.0)\u001b[0m\n\u001b[1;32m     69\u001b[0m     \u001b[0;32mdef\u001b[0m \u001b[0mwrapper\u001b[0m\u001b[0;34m(\u001b[0m\u001b[0mself\u001b[0m\u001b[0;34m,\u001b[0m \u001b[0mvalue\u001b[0m\u001b[0;34m)\u001b[0m\u001b[0;34m:\u001b[0m\u001b[0;34m\u001b[0m\u001b[0m\n\u001b[1;32m     70\u001b[0m         \u001b[0mcoerced\u001b[0m \u001b[0;34m=\u001b[0m \u001b[0min_coerce\u001b[0m\u001b[0;34m(\u001b[0m\u001b[0mself\u001b[0m\u001b[0;34m,\u001b[0m \u001b[0mvalue\u001b[0m\u001b[0;34m)\u001b[0m\u001b[0;34m\u001b[0m\u001b[0m\n\u001b[0;32m---> 71\u001b[0;31m         \u001b[0;34m[\u001b[0m\u001b[0mv\u001b[0m\u001b[0;34m.\u001b[0m\u001b[0mvalidate\u001b[0m\u001b[0;34m(\u001b[0m\u001b[0mcoerced\u001b[0m\u001b[0;34m)\u001b[0m \u001b[0;32mfor\u001b[0m \u001b[0mv\u001b[0m \u001b[0;32min\u001b[0m \u001b[0mself\u001b[0m\u001b[0;34m.\u001b[0m\u001b[0mvalidators\u001b[0m\u001b[0;34m]\u001b[0m\u001b[0;34m\u001b[0m\u001b[0m\n\u001b[0m\u001b[1;32m     72\u001b[0m         \u001b[0;32mreturn\u001b[0m \u001b[0mcoerced\u001b[0m\u001b[0;34m\u001b[0m\u001b[0m\n\u001b[1;32m     73\u001b[0m     \u001b[0;32mreturn\u001b[0m \u001b[0mwrapper\u001b[0m\u001b[0;34m\u001b[0m\u001b[0m\n",
      "\u001b[0;32m<ipython-input-23-38df49833f76>\u001b[0m in \u001b[0;36mvalidate\u001b[0;34m(self, value)\u001b[0m\n\u001b[1;32m     32\u001b[0m     \u001b[0;32mdef\u001b[0m \u001b[0mvalidate\u001b[0m\u001b[0;34m(\u001b[0m\u001b[0mself\u001b[0m\u001b[0;34m,\u001b[0m \u001b[0mvalue\u001b[0m\u001b[0;34m)\u001b[0m\u001b[0;34m:\u001b[0m\u001b[0;34m\u001b[0m\u001b[0m\n\u001b[1;32m     33\u001b[0m         \u001b[0;32mif\u001b[0m \u001b[0mvalue\u001b[0m \u001b[0;34m==\u001b[0m \u001b[0mself\u001b[0m\u001b[0;34m.\u001b[0m\u001b[0mnull\u001b[0m\u001b[0;34m:\u001b[0m\u001b[0;34m\u001b[0m\u001b[0m\n\u001b[0;32m---> 34\u001b[0;31m             \u001b[0;32mraise\u001b[0m \u001b[0mRequiredValueError\u001b[0m\u001b[0;34m(\u001b[0m\u001b[0;34m'Expecting non-null, but \"{}\" found instead'\u001b[0m\u001b[0;34m.\u001b[0m\u001b[0mformat\u001b[0m\u001b[0;34m(\u001b[0m\u001b[0mvalue\u001b[0m\u001b[0;34m)\u001b[0m\u001b[0;34m)\u001b[0m\u001b[0;34m\u001b[0m\u001b[0m\n\u001b[0m\u001b[1;32m     35\u001b[0m         \u001b[0;32mreturn\u001b[0m \u001b[0;32mTrue\u001b[0m\u001b[0;34m\u001b[0m\u001b[0m\n\u001b[1;32m     36\u001b[0m \u001b[0;34m\u001b[0m\u001b[0m\n",
      "\u001b[0;31mRequiredValueError\u001b[0m: Expecting non-null, but \"\" found instead"
     ]
    }
   ],
   "source": [
    "# SCRAP THIS.... I don't want to mix field coercion with validation\n",
    "class CoercionError(ValueError): pass\n",
    "class RequiredValueError(ValueError): pass\n",
    "class DecimalValidationError(ValueError):pass\n",
    "\n",
    "# For a validator, I would need to specify a validator name, a value, and a function to run if the value matches some criteria\n",
    "class FieldValidator():\n",
    "    meta_name = 'metadata_key'\n",
    "    meta_value = 'metadata_value'\n",
    "    \n",
    "    def __init__(self, **metadata):\n",
    "        self.metadata = metadata\n",
    "        \n",
    "    def validate(self, value):\n",
    "        raise NotImplementedError\n",
    "        return True\n",
    "        \n",
    "    def validator(self):\n",
    "        if self.metadata[self.__class__.meta_name] == self.__class__.meta_value:\n",
    "            return validate\n",
    "        else:\n",
    "            return None\n",
    "\n",
    "class NullValidator(FieldValidator):\n",
    "    meta_name = 'allow_null'\n",
    "    meta_value = False\n",
    "    \n",
    "    def __init__(self, **metadata):\n",
    "        super().__init__(**metadata)\n",
    "        self.null = self.metadata.get('null', None)\n",
    "\n",
    "    def validate(self, value):\n",
    "        if value == self.null:\n",
    "            raise RequiredValueError('Expecting non-null, but \"{}\" found instead'.format(value))\n",
    "        return True\n",
    "        \n",
    "    \n",
    "class DecimalValidator(FieldValidator):\n",
    "    meta_name = 'enforce_decimal'\n",
    "    meta_value = True\n",
    "    \n",
    "    def __init__(self, **metadata):\n",
    "        super().__init__(**metadata)\n",
    "        self.precision = self.metadata['precision']\n",
    "        self.scale = self.metadata['scale']\n",
    "\n",
    "    def validate(self, value):\n",
    "        if not value or value != value:\n",
    "            return value\n",
    "\n",
    "        detected_precision = len(value.as_tuple().digits)\n",
    "        detected_scale = -value.as_tuple().exponent\n",
    "\n",
    "        print('detected_precision: {}'.format(detected_precision))\n",
    "        print('detected_scale: {}'.format(detected_scale))\n",
    "        \n",
    "        if detected_precision > self.precision:\n",
    "            raise DecimalValidationError('Decimal conversion error for \"{}\".  Expected precision: {}, Actual precision: {}'.format(\n",
    "                value, self.precision, detected_precision\n",
    "            ))\n",
    "        if detected_scale > self.scale:\n",
    "            raise DecimalValidationError('Decimal conversion error for \"{}\".  Expected scale: {}, Actual scale: {}'.format(\n",
    "                value, self.scale, detected_scale\n",
    "            ))\n",
    "        return True\n",
    "    \n",
    "    \n",
    "def validate(in_coerce):\n",
    "    def wrapper(self, value):\n",
    "        coerced = in_coerce(self, value)\n",
    "        [v.validate(coerced) for v in self.validators]\n",
    "        return coerced\n",
    "    return wrapper\n",
    "    \n",
    "class Field():\n",
    "    def __init__(self, name=None, validators=[], **metadata):\n",
    "        self.name = name\n",
    "        self.metadata = metadata\n",
    "        \n",
    "        default_metadata = {'null': None, 'allow_null': True}\n",
    "        self.metadata = {**default_metadata, **metadata}\n",
    "  \n",
    "        validators = validators + [NullValidator, DecimalValidator]\n",
    "        self.validators = [v(**metadata) for v in validators if metadata.get(v.meta_name) == v.meta_value]\n",
    "        self.null = self.metadata['null']\n",
    "        \n",
    "\n",
    "#     def config(self):\n",
    "#         raise NotImplementedError\n",
    "        \n",
    "        \n",
    "    @validate\n",
    "    def in_coerce(self, value):\n",
    "        raise NotImplementedError\n",
    "\n",
    "    def __str__(self):\n",
    "        return self.__dict__.__str__()\n",
    "        \n",
    "        \n",
    "class StringField(Field):\n",
    "    def __init__(self, name=None, validators=[], **metadata):\n",
    "        super().__init__(name=name, validators=validators, null='', **metadata)\n",
    "#        self.null = ''\n",
    "#        self.metadata['null'] = self.null\n",
    "    \n",
    "    @validate\n",
    "    def in_coerce(self, value):\n",
    "        if not value:\n",
    "            return self.null\n",
    "        else:\n",
    "            return str(value)\n",
    "\n",
    "\n",
    "class DecimalField(Field):\n",
    "    def __init__(self, name=None, validators=[], **metadata):\n",
    "        super().__init__(name=name, validators=validators, **metadata)\n",
    "        self.precision = self.metadata['precision']\n",
    "        self.scale = self.metadata['scale']\n",
    "    \n",
    "    @validate\n",
    "    def in_coerce(self, value):\n",
    "        print('converting {} to decimal'.format(value))\n",
    "        if not value:\n",
    "            return self.null\n",
    "        else:\n",
    "            dec = decimal.Decimal(str(value))\n",
    "            return dec\n",
    "        \n",
    "        \n",
    "        \n",
    "# my_schema = Schema(**{\n",
    "#     'id': IntegerField(allow_null=False, is_awesome=True),\n",
    "#     'name': StringField(),\n",
    "#     'price': DecimalField(precision=6, scale=2)\n",
    "# })\n",
    "\n",
    "# Schema(\n",
    "#     IntegerField('id', allow_null=False, is_awesome=True),\n",
    "#     StringField('name'),\n",
    "#     DecimalField('price', precision=6, scale=2)\n",
    "# )\n",
    "\n",
    "# Schema(\n",
    "#     id=IntegerField(allow_null=False, is_awesome=True),\n",
    "#     name=StringField(),\n",
    "#     price=DecimalField(precision=6, scale=2)\n",
    "# )\n",
    "\n",
    "#s = StringField(name = 'myname')\n",
    "#s.in_coerce(None)\n",
    "\n",
    "#s2 = StringField(name = 'myname', allow_null=False, validators=[NullValidator])\n",
    "s2 = StringField(name = 'myname', allow_null=False)\n",
    "s2.in_coerce(None)\n",
    "\n",
    "\n",
    "# import decimal\n",
    "# import datetime\n",
    "\n",
    "# d1 = DecimalField('d1', precision=8, scale=2, enforce_decimal=True, validators=[DecimalValidator])\n",
    "# print(d1.in_coerce('8.25'))\n",
    "\n",
    "# try:\n",
    "#     d1.in_coerce('8.253')\n",
    "# except DecimalValidationError as err:\n",
    "#     print(err)\n",
    "\n",
    "# print(d1.in_coerce(None))\n",
    "# print(d1.in_coerce(''))\n",
    "# print(d1.in_coerce(float('NaN')).__class__)\n",
    "\n",
    "\n"
   ]
  },
  {
   "cell_type": "code",
   "execution_count": 38,
   "metadata": {},
   "outputs": [
    {
     "data": {
      "text/plain": [
       "False"
      ]
     },
     "execution_count": 38,
     "metadata": {},
     "output_type": "execute_result"
    }
   ],
   "source": []
  },
  {
   "cell_type": "code",
   "execution_count": 22,
   "metadata": {},
   "outputs": [
    {
     "name": "stdout",
     "output_type": "stream",
     "text": [
      "schema: happy\n",
      "args: ('pants',)\n",
      "kwargs: {}\n"
     ]
    }
   ],
   "source": [
    "def init(schema=None, *args, **kwargs):\n",
    "    print('schema: {}'.format(schema))\n",
    "    print('args: {}'.format(args))\n",
    "    print('kwargs: {}'.format(kwargs))\n",
    "    \n",
    "init('happy', 'pants')"
   ]
  },
  {
   "cell_type": "code",
   "execution_count": 9,
   "metadata": {},
   "outputs": [
    {
     "ename": "NameError",
     "evalue": "name 'nan' is not defined",
     "output_type": "error",
     "traceback": [
      "\u001b[0;31m---------------------------------------------------------------------------\u001b[0m",
      "\u001b[0;31mNameError\u001b[0m                                 Traceback (most recent call last)",
      "\u001b[0;32m<ipython-input-9-8496edc65712>\u001b[0m in \u001b[0;36m<module>\u001b[0;34m()\u001b[0m\n\u001b[0;32m----> 1\u001b[0;31m \u001b[0mnan\u001b[0m\u001b[0;34m\u001b[0m\u001b[0m\n\u001b[0m",
      "\u001b[0;31mNameError\u001b[0m: name 'nan' is not defined"
     ]
    }
   ],
   "source": [
    "nan"
   ]
  },
  {
   "cell_type": "code",
   "execution_count": 10,
   "metadata": {},
   "outputs": [
    {
     "data": {
      "text/plain": [
       "True"
      ]
     },
     "execution_count": 10,
     "metadata": {},
     "output_type": "execute_result"
    }
   ],
   "source": [
    "x = float('NaN')\n",
    "y = float('NaN')\n",
    "x != x\n",
    "                      "
   ]
  },
  {
   "cell_type": "code",
   "execution_count": 20,
   "metadata": {},
   "outputs": [
    {
     "data": {
      "text/plain": [
       "True"
      ]
     },
     "execution_count": 20,
     "metadata": {},
     "output_type": "execute_result"
    }
   ],
   "source": [
    "class Animal():\n",
    "    pass\n",
    "\n",
    "class Mammal(Animal):\n",
    "    pass\n",
    "\n",
    "class Monkey(Mammal):\n",
    "    pass\n",
    "\n",
    "class Arachnid(Animal):\n",
    "    pass\n",
    "\n",
    "class BlackWidow(Arachnid):\n",
    "    pass\n",
    "\n",
    "\n",
    "m = Monkey()\n",
    "s = BlackWidow()\n",
    "\n",
    "isinstance(m, Mammal)\n"
   ]
  },
  {
   "cell_type": "code",
   "execution_count": 28,
   "metadata": {},
   "outputs": [
    {
     "data": {
      "text/plain": [
       "<bound method Animal.woof of <__main__.Animal object at 0x7ff8bc2cb390>>"
      ]
     },
     "execution_count": 28,
     "metadata": {},
     "output_type": "execute_result"
    }
   ],
   "source": [
    "class Animal():\n",
    "    def woof(self):\n",
    "        print('Woof')\n",
    "    def bark(self):\n",
    "        return self.woof\n",
    "    \n",
    "a = Animal()\n",
    "a.bark()"
   ]
  },
  {
   "cell_type": "code",
   "execution_count": 4,
   "metadata": {},
   "outputs": [
    {
     "name": "stdout",
     "output_type": "stream",
     "text": [
      "Called coerce with args: {}\n"
     ]
    },
    {
     "ename": "TypeError",
     "evalue": "coerce() missing 1 required positional argument: 'self'",
     "output_type": "error",
     "traceback": [
      "\u001b[0;31m---------------------------------------------------------------------------\u001b[0m",
      "\u001b[0;31mTypeError\u001b[0m                                 Traceback (most recent call last)",
      "\u001b[0;32m<ipython-input-4-3d97f9032458>\u001b[0m in \u001b[0;36m<module>\u001b[0;34m()\u001b[0m\n\u001b[1;32m     12\u001b[0m         \u001b[0mprint\u001b[0m\u001b[0;34m(\u001b[0m\u001b[0;34m'I am coercing stuff'\u001b[0m\u001b[0;34m)\u001b[0m\u001b[0;34m\u001b[0m\u001b[0m\n\u001b[1;32m     13\u001b[0m \u001b[0;34m\u001b[0m\u001b[0m\n\u001b[0;32m---> 14\u001b[0;31m \u001b[0mMoofield\u001b[0m\u001b[0;34m(\u001b[0m\u001b[0;34m)\u001b[0m\u001b[0;34m.\u001b[0m\u001b[0mcoerce\u001b[0m\u001b[0;34m(\u001b[0m\u001b[0;34m)\u001b[0m\u001b[0;34m\u001b[0m\u001b[0m\n\u001b[0m\u001b[1;32m     15\u001b[0m \u001b[0;34m\u001b[0m\u001b[0m\n",
      "\u001b[0;32m<ipython-input-4-3d97f9032458>\u001b[0m in \u001b[0;36m__call__\u001b[0;34m(self, **args)\u001b[0m\n\u001b[1;32m      5\u001b[0m     \u001b[0;32mdef\u001b[0m \u001b[0m__call__\u001b[0m\u001b[0;34m(\u001b[0m\u001b[0mself\u001b[0m\u001b[0;34m,\u001b[0m \u001b[0;34m**\u001b[0m\u001b[0margs\u001b[0m\u001b[0;34m)\u001b[0m\u001b[0;34m:\u001b[0m\u001b[0;34m\u001b[0m\u001b[0m\n\u001b[1;32m      6\u001b[0m         \u001b[0mprint\u001b[0m\u001b[0;34m(\u001b[0m\u001b[0;34m'Called {func} with args: {args}'\u001b[0m\u001b[0;34m.\u001b[0m\u001b[0mformat\u001b[0m\u001b[0;34m(\u001b[0m\u001b[0mfunc\u001b[0m\u001b[0;34m=\u001b[0m\u001b[0mself\u001b[0m\u001b[0;34m.\u001b[0m\u001b[0mfunc\u001b[0m\u001b[0;34m.\u001b[0m\u001b[0m__name__\u001b[0m\u001b[0;34m,\u001b[0m\u001b[0margs\u001b[0m\u001b[0;34m=\u001b[0m\u001b[0margs\u001b[0m\u001b[0;34m)\u001b[0m\u001b[0;34m)\u001b[0m\u001b[0;34m\u001b[0m\u001b[0m\n\u001b[0;32m----> 7\u001b[0;31m         \u001b[0;32mreturn\u001b[0m \u001b[0mself\u001b[0m\u001b[0;34m.\u001b[0m\u001b[0mfunc\u001b[0m\u001b[0;34m(\u001b[0m\u001b[0;34m*\u001b[0m\u001b[0margs\u001b[0m\u001b[0;34m)\u001b[0m\u001b[0;34m\u001b[0m\u001b[0m\n\u001b[0m\u001b[1;32m      8\u001b[0m \u001b[0;34m\u001b[0m\u001b[0m\n\u001b[1;32m      9\u001b[0m \u001b[0;32mclass\u001b[0m \u001b[0mMoofield\u001b[0m\u001b[0;34m(\u001b[0m\u001b[0;34m)\u001b[0m\u001b[0;34m:\u001b[0m\u001b[0;34m\u001b[0m\u001b[0m\n",
      "\u001b[0;31mTypeError\u001b[0m: coerce() missing 1 required positional argument: 'self'"
     ]
    }
   ],
   "source": [
    "class validator():\n",
    "    def __init__(self, func):\n",
    "        self.func = func\n",
    "        \n",
    "    def __call__(self, *args):\n",
    "        print('Called {func} with args: {args}'.format(func=self.func.__name__,args=args))\n",
    "        return self.func(*args)\n",
    "    \n",
    "class Moofield():\n",
    "    @validator\n",
    "    def coerce(self):\n",
    "        print('I am coercing stuff')\n",
    "\n",
    "Moofield().coerce()\n",
    "        "
   ]
  },
  {
   "cell_type": "code",
   "execution_count": 1,
   "metadata": {},
   "outputs": [
    {
     "name": "stdout",
     "output_type": "stream",
     "text": [
      "{'__module__': '__main__', '__init__': <function Moof.__init__ at 0x7fcbed701b70>, 'coerce': <function Moof.coerce at 0x7fcbed701bf8>, '__dict__': <attribute '__dict__' of 'Moof' objects>, '__weakref__': <attribute '__weakref__' of 'Moof' objects>, '__doc__': None}\n"
     ]
    },
    {
     "ename": "AttributeError",
     "evalue": "type object 'Moof' has no attribute 'validate'",
     "output_type": "error",
     "traceback": [
      "\u001b[0;31m---------------------------------------------------------------------------\u001b[0m",
      "\u001b[0;31mAttributeError\u001b[0m                            Traceback (most recent call last)",
      "\u001b[0;32m<ipython-input-1-866ce9dd6699>\u001b[0m in \u001b[0;36m<module>\u001b[0;34m()\u001b[0m\n\u001b[1;32m     20\u001b[0m \u001b[0;32mclass\u001b[0m \u001b[0mBlerf\u001b[0m\u001b[0;34m(\u001b[0m\u001b[0mMoof\u001b[0m\u001b[0;34m)\u001b[0m\u001b[0;34m:\u001b[0m \u001b[0;32mpass\u001b[0m\u001b[0;34m\u001b[0m\u001b[0m\n\u001b[1;32m     21\u001b[0m \u001b[0;34m\u001b[0m\u001b[0m\n\u001b[0;32m---> 22\u001b[0;31m \u001b[0;32mclass\u001b[0m \u001b[0mBlerf\u001b[0m\u001b[0;34m(\u001b[0m\u001b[0mMoof\u001b[0m\u001b[0;34m)\u001b[0m\u001b[0;34m:\u001b[0m\u001b[0;34m\u001b[0m\u001b[0m\n\u001b[0m\u001b[1;32m     23\u001b[0m     \u001b[0;34m@\u001b[0m\u001b[0mMoof\u001b[0m\u001b[0;34m.\u001b[0m\u001b[0mvalidate\u001b[0m\u001b[0;34m\u001b[0m\u001b[0m\n\u001b[1;32m     24\u001b[0m     \u001b[0;32mdef\u001b[0m \u001b[0mcoerce\u001b[0m\u001b[0;34m(\u001b[0m\u001b[0mself\u001b[0m\u001b[0;34m)\u001b[0m\u001b[0;34m:\u001b[0m\u001b[0;34m\u001b[0m\u001b[0m\n",
      "\u001b[0;32m<ipython-input-1-866ce9dd6699>\u001b[0m in \u001b[0;36mBlerf\u001b[0;34m()\u001b[0m\n\u001b[1;32m     21\u001b[0m \u001b[0;34m\u001b[0m\u001b[0m\n\u001b[1;32m     22\u001b[0m \u001b[0;32mclass\u001b[0m \u001b[0mBlerf\u001b[0m\u001b[0;34m(\u001b[0m\u001b[0mMoof\u001b[0m\u001b[0;34m)\u001b[0m\u001b[0;34m:\u001b[0m\u001b[0;34m\u001b[0m\u001b[0m\n\u001b[0;32m---> 23\u001b[0;31m     \u001b[0;34m@\u001b[0m\u001b[0mMoof\u001b[0m\u001b[0;34m.\u001b[0m\u001b[0mvalidate\u001b[0m\u001b[0;34m\u001b[0m\u001b[0m\n\u001b[0m\u001b[1;32m     24\u001b[0m     \u001b[0;32mdef\u001b[0m \u001b[0mcoerce\u001b[0m\u001b[0;34m(\u001b[0m\u001b[0mself\u001b[0m\u001b[0;34m)\u001b[0m\u001b[0;34m:\u001b[0m\u001b[0;34m\u001b[0m\u001b[0m\n\u001b[1;32m     25\u001b[0m         \u001b[0mprint\u001b[0m\u001b[0;34m(\u001b[0m\u001b[0;34m'I am coercing blerfy stuffs'\u001b[0m\u001b[0;34m)\u001b[0m\u001b[0;34m\u001b[0m\u001b[0m\n",
      "\u001b[0;31mAttributeError\u001b[0m: type object 'Moof' has no attribute 'validate'"
     ]
    }
   ],
   "source": [
    "class Moof(): \n",
    "    @classmethod\n",
    "    def validate(cls, pie):\n",
    "        def wrapper(self):\n",
    "            pie(self)\n",
    "            print('I am validerting stuffs')\n",
    "        return wrapper\n",
    "\n",
    "class Moof():\n",
    "    def __init__(self):\n",
    "        pass\n",
    "    \n",
    "#    @Moof.validate\n",
    "    def coerce(self):\n",
    "        print('I am corcing stuffs')\n",
    "\n",
    "\n",
    "print(Moof.__dict__)\n",
    "        \n",
    "class Blerf(Moof): pass\n",
    "\n",
    "class Blerf(Moof):\n",
    "    @Moof.validate\n",
    "    def coerce(self):\n",
    "        print('I am coercing blerfy stuffs')\n",
    "        \n",
    "Moof().coerce()\n",
    "print('--')\n",
    "#Moof.__dict__\n",
    "#Blerf().coerce()"
   ]
  },
  {
   "cell_type": "code",
   "execution_count": 7,
   "metadata": {},
   "outputs": [
    {
     "name": "stdout",
     "output_type": "stream",
     "text": [
      "I am coercing moofy stuffs\n",
      "I am validerting moofy stuffs\n",
      "--\n",
      "I am coercing blerfy stuffs\n",
      "I am validerting blerfy stuffs\n"
     ]
    }
   ],
   "source": [
    "def validate(fun):\n",
    "    def wrapper(self):\n",
    "        fun(self)\n",
    "        print('I am validerting {} stuffs'.format(self.name))\n",
    "    return wrapper\n",
    "\n",
    "\n",
    "class Moof():\n",
    "    def __init__(self):\n",
    "        self.name = 'moofy'\n",
    "    \n",
    "    @validate\n",
    "    def coerce(self):\n",
    "        print('I am coercing moofy stuffs')\n",
    "\n",
    "class Blerf(Moof):\n",
    "    def __init__(self):\n",
    "        self.name = 'blerfy'\n",
    "    \n",
    "    @validate\n",
    "    def coerce(self):\n",
    "        print('I am coercing blerfy stuffs')\n",
    "        \n",
    "Moof().coerce()\n",
    "print('--')\n",
    "Blerf().coerce()"
   ]
  },
  {
   "cell_type": "code",
   "execution_count": 14,
   "metadata": {},
   "outputs": [
    {
     "name": "stdout",
     "output_type": "stream",
     "text": [
      "Checking if NA for <__main__.Moofle object at 0x7f3f1c646208> is null\n",
      "Coercing value NULL I suppose\n",
      "Validating NULL I suppose for <__main__.Moofle object at 0x7f3f1c646208>\n"
     ]
    },
    {
     "data": {
      "text/plain": [
       "'NULL I suppose'"
      ]
     },
     "execution_count": 14,
     "metadata": {},
     "output_type": "execute_result"
    }
   ],
   "source": [
    "def validate(self, value):\n",
    "    print('Validating {} for {}'.format(value, self))\n",
    "    return value\n",
    "\n",
    "def null_handler(self, null_if, value):\n",
    "    print('Checking if {} for {} is null'.format(value, self))\n",
    "    if null_if(value):\n",
    "        return 'NULL I suppose'\n",
    "    else:\n",
    "        return value\n",
    "    \n",
    "def coercion_handler(null_if=lambda v: not v):\n",
    "    def coerce_wrapper(fun):\n",
    "        def wrapper(self, value):\n",
    "            value = null_handler(self, null_if, value)\n",
    "            coerced = fun(self, value)\n",
    "            validate(self, coerced)\n",
    "            return coerced\n",
    "        return wrapper\n",
    "    return coerce_wrapper\n",
    "    \n",
    "class Moofle():\n",
    "    @coercion_handler(null_if=lambda v: v == 'NA')\n",
    "    def coerce(self, value):\n",
    "        print('Coercing value {}'.format(value))\n",
    "        return value\n",
    "\n",
    "Moofle().coerce('NA')\n",
    "    "
   ]
  },
  {
   "cell_type": "code",
   "execution_count": 51,
   "metadata": {},
   "outputs": [
    {
     "data": {
      "text/plain": [
       "'2017-01-31 00:00:00'"
      ]
     },
     "execution_count": 51,
     "metadata": {},
     "output_type": "execute_result"
    }
   ],
   "source": [
    "import datetime\n",
    "\n",
    "str(datetime.datetime.strptime('2017-01-31', '%Y-%m-%d'))\n"
   ]
  },
  {
   "cell_type": "code",
   "execution_count": 53,
   "metadata": {},
   "outputs": [
    {
     "data": {
      "text/plain": [
       "datetime.datetime(2017, 1, 31, 0, 0)"
      ]
     },
     "execution_count": 53,
     "metadata": {},
     "output_type": "execute_result"
    }
   ],
   "source": [
    "import dateutil\n"
   ]
  },
  {
   "cell_type": "code",
   "execution_count": 64,
   "metadata": {},
   "outputs": [
    {
     "ename": "TypeError",
     "evalue": "Parser must be a string or character stream, not datetime",
     "output_type": "error",
     "traceback": [
      "\u001b[0;31m---------------------------------------------------------------------------\u001b[0m",
      "\u001b[0;31mTypeError\u001b[0m                                 Traceback (most recent call last)",
      "\u001b[0;32m<ipython-input-64-6a4f7cc4edb2>\u001b[0m in \u001b[0;36m<module>\u001b[0;34m()\u001b[0m\n\u001b[1;32m      1\u001b[0m \u001b[0;31m#%%timeit\u001b[0m\u001b[0;34m\u001b[0m\u001b[0;34m\u001b[0m\u001b[0m\n\u001b[1;32m      2\u001b[0m \u001b[0md\u001b[0m \u001b[0;34m=\u001b[0m \u001b[0mdateutil\u001b[0m\u001b[0;34m.\u001b[0m\u001b[0mparser\u001b[0m\u001b[0;34m.\u001b[0m\u001b[0mparse\u001b[0m\u001b[0;34m(\u001b[0m\u001b[0;34m'01-31-2017'\u001b[0m\u001b[0;34m)\u001b[0m\u001b[0;34m\u001b[0m\u001b[0m\n\u001b[0;32m----> 3\u001b[0;31m \u001b[0mdateutil\u001b[0m\u001b[0;34m.\u001b[0m\u001b[0mparser\u001b[0m\u001b[0;34m.\u001b[0m\u001b[0mparse\u001b[0m\u001b[0;34m(\u001b[0m\u001b[0md\u001b[0m\u001b[0;34m)\u001b[0m\u001b[0;34m\u001b[0m\u001b[0m\n\u001b[0m",
      "\u001b[0;32m/opt/conda/lib/python3.6/site-packages/dateutil/parser.py\u001b[0m in \u001b[0;36mparse\u001b[0;34m(timestr, parserinfo, **kwargs)\u001b[0m\n\u001b[1;32m   1180\u001b[0m         \u001b[0;32mreturn\u001b[0m \u001b[0mparser\u001b[0m\u001b[0;34m(\u001b[0m\u001b[0mparserinfo\u001b[0m\u001b[0;34m)\u001b[0m\u001b[0;34m.\u001b[0m\u001b[0mparse\u001b[0m\u001b[0;34m(\u001b[0m\u001b[0mtimestr\u001b[0m\u001b[0;34m,\u001b[0m \u001b[0;34m**\u001b[0m\u001b[0mkwargs\u001b[0m\u001b[0;34m)\u001b[0m\u001b[0;34m\u001b[0m\u001b[0m\n\u001b[1;32m   1181\u001b[0m     \u001b[0;32melse\u001b[0m\u001b[0;34m:\u001b[0m\u001b[0;34m\u001b[0m\u001b[0m\n\u001b[0;32m-> 1182\u001b[0;31m         \u001b[0;32mreturn\u001b[0m \u001b[0mDEFAULTPARSER\u001b[0m\u001b[0;34m.\u001b[0m\u001b[0mparse\u001b[0m\u001b[0;34m(\u001b[0m\u001b[0mtimestr\u001b[0m\u001b[0;34m,\u001b[0m \u001b[0;34m**\u001b[0m\u001b[0mkwargs\u001b[0m\u001b[0;34m)\u001b[0m\u001b[0;34m\u001b[0m\u001b[0m\n\u001b[0m\u001b[1;32m   1183\u001b[0m \u001b[0;34m\u001b[0m\u001b[0m\n\u001b[1;32m   1184\u001b[0m \u001b[0;34m\u001b[0m\u001b[0m\n",
      "\u001b[0;32m/opt/conda/lib/python3.6/site-packages/dateutil/parser.py\u001b[0m in \u001b[0;36mparse\u001b[0;34m(self, timestr, default, ignoretz, tzinfos, **kwargs)\u001b[0m\n\u001b[1;32m    554\u001b[0m                                                       second=0, microsecond=0)\n\u001b[1;32m    555\u001b[0m \u001b[0;34m\u001b[0m\u001b[0m\n\u001b[0;32m--> 556\u001b[0;31m         \u001b[0mres\u001b[0m\u001b[0;34m,\u001b[0m \u001b[0mskipped_tokens\u001b[0m \u001b[0;34m=\u001b[0m \u001b[0mself\u001b[0m\u001b[0;34m.\u001b[0m\u001b[0m_parse\u001b[0m\u001b[0;34m(\u001b[0m\u001b[0mtimestr\u001b[0m\u001b[0;34m,\u001b[0m \u001b[0;34m**\u001b[0m\u001b[0mkwargs\u001b[0m\u001b[0;34m)\u001b[0m\u001b[0;34m\u001b[0m\u001b[0m\n\u001b[0m\u001b[1;32m    557\u001b[0m \u001b[0;34m\u001b[0m\u001b[0m\n\u001b[1;32m    558\u001b[0m         \u001b[0;32mif\u001b[0m \u001b[0mres\u001b[0m \u001b[0;32mis\u001b[0m \u001b[0;32mNone\u001b[0m\u001b[0;34m:\u001b[0m\u001b[0;34m\u001b[0m\u001b[0m\n",
      "\u001b[0;32m/opt/conda/lib/python3.6/site-packages/dateutil/parser.py\u001b[0m in \u001b[0;36m_parse\u001b[0;34m(self, timestr, dayfirst, yearfirst, fuzzy, fuzzy_with_tokens)\u001b[0m\n\u001b[1;32m    673\u001b[0m \u001b[0;34m\u001b[0m\u001b[0m\n\u001b[1;32m    674\u001b[0m         \u001b[0mres\u001b[0m \u001b[0;34m=\u001b[0m \u001b[0mself\u001b[0m\u001b[0;34m.\u001b[0m\u001b[0m_result\u001b[0m\u001b[0;34m(\u001b[0m\u001b[0;34m)\u001b[0m\u001b[0;34m\u001b[0m\u001b[0m\n\u001b[0;32m--> 675\u001b[0;31m         \u001b[0ml\u001b[0m \u001b[0;34m=\u001b[0m \u001b[0m_timelex\u001b[0m\u001b[0;34m.\u001b[0m\u001b[0msplit\u001b[0m\u001b[0;34m(\u001b[0m\u001b[0mtimestr\u001b[0m\u001b[0;34m)\u001b[0m         \u001b[0;31m# Splits the timestr into tokens\u001b[0m\u001b[0;34m\u001b[0m\u001b[0m\n\u001b[0m\u001b[1;32m    676\u001b[0m \u001b[0;34m\u001b[0m\u001b[0m\n\u001b[1;32m    677\u001b[0m         \u001b[0;31m# keep up with the last token skipped so we can recombine\u001b[0m\u001b[0;34m\u001b[0m\u001b[0;34m\u001b[0m\u001b[0m\n",
      "\u001b[0;32m/opt/conda/lib/python3.6/site-packages/dateutil/parser.py\u001b[0m in \u001b[0;36msplit\u001b[0;34m(cls, s)\u001b[0m\n\u001b[1;32m    190\u001b[0m     \u001b[0;34m@\u001b[0m\u001b[0mclassmethod\u001b[0m\u001b[0;34m\u001b[0m\u001b[0m\n\u001b[1;32m    191\u001b[0m     \u001b[0;32mdef\u001b[0m \u001b[0msplit\u001b[0m\u001b[0;34m(\u001b[0m\u001b[0mcls\u001b[0m\u001b[0;34m,\u001b[0m \u001b[0ms\u001b[0m\u001b[0;34m)\u001b[0m\u001b[0;34m:\u001b[0m\u001b[0;34m\u001b[0m\u001b[0m\n\u001b[0;32m--> 192\u001b[0;31m         \u001b[0;32mreturn\u001b[0m \u001b[0mlist\u001b[0m\u001b[0;34m(\u001b[0m\u001b[0mcls\u001b[0m\u001b[0;34m(\u001b[0m\u001b[0ms\u001b[0m\u001b[0;34m)\u001b[0m\u001b[0;34m)\u001b[0m\u001b[0;34m\u001b[0m\u001b[0m\n\u001b[0m\u001b[1;32m    193\u001b[0m \u001b[0;34m\u001b[0m\u001b[0m\n\u001b[1;32m    194\u001b[0m     \u001b[0;34m@\u001b[0m\u001b[0mclassmethod\u001b[0m\u001b[0;34m\u001b[0m\u001b[0m\n",
      "\u001b[0;32m/opt/conda/lib/python3.6/site-packages/dateutil/parser.py\u001b[0m in \u001b[0;36m__init__\u001b[0;34m(self, instream)\u001b[0m\n\u001b[1;32m     59\u001b[0m         \u001b[0;32mif\u001b[0m \u001b[0mgetattr\u001b[0m\u001b[0;34m(\u001b[0m\u001b[0minstream\u001b[0m\u001b[0;34m,\u001b[0m \u001b[0;34m'read'\u001b[0m\u001b[0;34m,\u001b[0m \u001b[0;32mNone\u001b[0m\u001b[0;34m)\u001b[0m \u001b[0;32mis\u001b[0m \u001b[0;32mNone\u001b[0m\u001b[0;34m:\u001b[0m\u001b[0;34m\u001b[0m\u001b[0m\n\u001b[1;32m     60\u001b[0m             raise TypeError('Parser must be a string or character stream, not '\n\u001b[0;32m---> 61\u001b[0;31m                             '{itype}'.format(itype=instream.__class__.__name__))\n\u001b[0m\u001b[1;32m     62\u001b[0m \u001b[0;34m\u001b[0m\u001b[0m\n\u001b[1;32m     63\u001b[0m         \u001b[0mself\u001b[0m\u001b[0;34m.\u001b[0m\u001b[0minstream\u001b[0m \u001b[0;34m=\u001b[0m \u001b[0minstream\u001b[0m\u001b[0;34m\u001b[0m\u001b[0m\n",
      "\u001b[0;31mTypeError\u001b[0m: Parser must be a string or character stream, not datetime"
     ]
    }
   ],
   "source": [
    "#%%timeit\n",
    "d = dateutil.parser.parse('01-31-2017')\n",
    "dateutil.parser.parse(d)"
   ]
  },
  {
   "cell_type": "code",
   "execution_count": 55,
   "metadata": {},
   "outputs": [
    {
     "name": "stdout",
     "output_type": "stream",
     "text": [
      "9.1 µs ± 233 ns per loop (mean ± std. dev. of 7 runs, 100000 loops each)\n"
     ]
    }
   ],
   "source": [
    "%%timeit\n",
    "datetime.datetime.strptime('2017-01-31', '%Y-%m-%d')"
   ]
  },
  {
   "cell_type": "code",
   "execution_count": 23,
   "metadata": {},
   "outputs": [
    {
     "data": {
      "text/plain": [
       "Decimal('103.16')"
      ]
     },
     "execution_count": 23,
     "metadata": {},
     "output_type": "execute_result"
    }
   ],
   "source": [
    "import decimal\n",
    "d = decimal.Decimal('103.155')\n",
    "#d.quantize(10.exp(d), rounding=decimal.ROUND_HALF_EVEN)\n",
    "round(d, 2)\n"
   ]
  },
  {
   "cell_type": "code",
   "execution_count": 33,
   "metadata": {},
   "outputs": [
    {
     "data": {
      "text/plain": [
       "'one'"
      ]
     },
     "execution_count": 33,
     "metadata": {},
     "output_type": "execute_result"
    }
   ],
   "source": [
    "g = (x for x in ['one', 'two', 'three'])\n",
    "f = lambda: next((x for x in ['one', 'two', 'three']))\n",
    "f()\n",
    "f()"
   ]
  },
  {
   "cell_type": "code",
   "execution_count": 34,
   "metadata": {},
   "outputs": [
    {
     "ename": "TypeError",
     "evalue": "'list' object is not an iterator",
     "output_type": "error",
     "traceback": [
      "\u001b[0;31m---------------------------------------------------------------------------\u001b[0m",
      "\u001b[0;31mTypeError\u001b[0m                                 Traceback (most recent call last)",
      "\u001b[0;32m<ipython-input-34-08245633fd21>\u001b[0m in \u001b[0;36m<module>\u001b[0;34m()\u001b[0m\n\u001b[0;32m----> 1\u001b[0;31m \u001b[0mnext\u001b[0m\u001b[0;34m(\u001b[0m\u001b[0;34m[\u001b[0m\u001b[0;34m'one'\u001b[0m\u001b[0;34m,\u001b[0m \u001b[0;34m'two'\u001b[0m\u001b[0;34m,\u001b[0m \u001b[0;34m'three'\u001b[0m\u001b[0;34m]\u001b[0m\u001b[0;34m)\u001b[0m\u001b[0;34m\u001b[0m\u001b[0m\n\u001b[0m",
      "\u001b[0;31mTypeError\u001b[0m: 'list' object is not an iterator"
     ]
    }
   ],
   "source": [
    "next(['one', 'two', 'three'])"
   ]
  }
 ],
 "metadata": {
  "kernelspec": {
   "display_name": "Python 3",
   "language": "python",
   "name": "python3"
  },
  "language_info": {
   "codemirror_mode": {
    "name": "ipython",
    "version": 3
   },
   "file_extension": ".py",
   "mimetype": "text/x-python",
   "name": "python",
   "nbconvert_exporter": "python",
   "pygments_lexer": "ipython3",
   "version": "3.6.2"
  }
 },
 "nbformat": 4,
 "nbformat_minor": 2
}
