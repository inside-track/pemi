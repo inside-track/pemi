{
 "cells": [
  {
   "cell_type": "code",
   "execution_count": 1,
   "metadata": {},
   "outputs": [
    {
     "data": {
      "text/plain": [
       "4999999950000000.0"
      ]
     },
     "execution_count": 1,
     "metadata": {},
     "output_type": "execute_result"
    }
   ],
   "source": [
    "import pyspark\n",
    "import pandas as pd\n",
    "from pyspark.sql import SparkSession\n",
    "from pyspark.sql.types import *\n",
    "\n",
    "spark = SparkSession \\\n",
    "    .builder \\\n",
    "    .master(\"spark://spark-master:7077\") \\\n",
    "    .appName(\"PemiSpark\") \\\n",
    "    .config(\"spark.sql.warehouse.dir\", \"/tmp/data/spark-warehouse\") \\\n",
    "    .config(\"spark.executor.memory\", \"2g\") \\\n",
    "    .getOrCreate()\n",
    "    \n",
    "\n",
    "sc = spark.sparkContext\n",
    "sc.setLogLevel(\"INFO\")\n",
    "\n",
    "# do something to prove it works\n",
    "rdd = sc.parallelize(range(100000000))\n",
    "rdd.sumApprox(3)\n",
    "\n"
   ]
  },
  {
   "cell_type": "code",
   "execution_count": 2,
   "metadata": {},
   "outputs": [
    {
     "data": {
      "text/plain": [
       "139"
      ]
     },
     "execution_count": 2,
     "metadata": {},
     "output_type": "execute_result"
    }
   ],
   "source": [
    "# Read some local data\n",
    "sc.textFile(\"/tmp/data/Kiosk-OCC_201709140800.csv\").count()"
   ]
  },
  {
   "cell_type": "code",
   "execution_count": 3,
   "metadata": {},
   "outputs": [
    {
     "name": "stdout",
     "output_type": "stream",
     "text": [
      "+---+-----+\n",
      "| id| name|\n",
      "+---+-----+\n",
      "|  1|  one|\n",
      "|  2|  two|\n",
      "|  3|three|\n",
      "+---+-----+\n",
      "\n"
     ]
    },
    {
     "data": {
      "text/html": [
       "<div>\n",
       "<style>\n",
       "    .dataframe thead tr:only-child th {\n",
       "        text-align: right;\n",
       "    }\n",
       "\n",
       "    .dataframe thead th {\n",
       "        text-align: left;\n",
       "    }\n",
       "\n",
       "    .dataframe tbody tr th {\n",
       "        vertical-align: top;\n",
       "    }\n",
       "</style>\n",
       "<table border=\"1\" class=\"dataframe\">\n",
       "  <thead>\n",
       "    <tr style=\"text-align: right;\">\n",
       "      <th></th>\n",
       "      <th>id</th>\n",
       "      <th>name</th>\n",
       "    </tr>\n",
       "  </thead>\n",
       "  <tbody>\n",
       "    <tr>\n",
       "      <th>0</th>\n",
       "      <td>1</td>\n",
       "      <td>one</td>\n",
       "    </tr>\n",
       "    <tr>\n",
       "      <th>1</th>\n",
       "      <td>2</td>\n",
       "      <td>two</td>\n",
       "    </tr>\n",
       "    <tr>\n",
       "      <th>2</th>\n",
       "      <td>3</td>\n",
       "      <td>three</td>\n",
       "    </tr>\n",
       "  </tbody>\n",
       "</table>\n",
       "</div>"
      ],
      "text/plain": [
       "   id   name\n",
       "0   1    one\n",
       "1   2    two\n",
       "2   3  three"
      ]
     },
     "execution_count": 3,
     "metadata": {},
     "output_type": "execute_result"
    }
   ],
   "source": [
    "# Convert a pandas dataframe to a spark dataframe and then back again\n",
    "\n",
    "pd_df = pd.DataFrame({\n",
    "    'id': [1,2,3],\n",
    "    'name': ['one', 'two', 'three']\n",
    "})\n",
    "\n",
    "spark_df = spark.createDataFrame(pd_df)\n",
    "spark_df.show()\n",
    "\n",
    "spark_df.toPandas()"
   ]
  },
  {
   "cell_type": "code",
   "execution_count": 4,
   "metadata": {},
   "outputs": [
    {
     "name": "stdout",
     "output_type": "stream",
     "text": [
      "+-------+----------+--------+\n",
      "|beer_id|   sold_at|quantity|\n",
      "+-------+----------+--------+\n",
      "|      1|2017-01-01|       3|\n",
      "|      2|2017-01-02|       3|\n",
      "|      3|2017-01-03|       5|\n",
      "|      4|2017-01-04|       8|\n",
      "|      5|2017-01-04|       6|\n",
      "|      1|2017-01-06|       1|\n",
      "+-------+----------+--------+\n",
      "\n",
      "+---+-------------+-----+--------------------+--------------------+\n",
      "| id|         name|style|                 abv|               price|\n",
      "+---+-------------+-----+--------------------+--------------------+\n",
      "|  1|     SpinCyle|  IPA|52.72000000000000...|25.90000000000000...|\n",
      "|  2|     OldStyle| Pale|33.43000000000000...|6.970000000000000000|\n",
      "|  3|   Pipewrench|  IPA|80.97000000000000...|94.00000000000000...|\n",
      "|  4|AbstRedRibbon|Lager|96.97000000000000...|74.95000000000000...|\n",
      "+---+-------------+-----+--------------------+--------------------+\n",
      "\n",
      "+-------+-------------+-----+----------+--------+----------+----------+\n",
      "|beer_id|         name|style|   sold_at|quantity|unit_price|sell_price|\n",
      "+-------+-------------+-----+----------+--------+----------+----------+\n",
      "|      5|         null| null|2017-01-04|       6|      null|      null|\n",
      "|      1|     SpinCyle|  IPA|2017-01-06|       1|     25.90|     25.90|\n",
      "|      1|     SpinCyle|  IPA|2017-01-01|       3|     25.90|     77.70|\n",
      "|      3|   Pipewrench|  IPA|2017-01-03|       5|     94.00|    470.00|\n",
      "|      2|     OldStyle| Pale|2017-01-02|       3|      6.97|     20.91|\n",
      "|      4|AbstRedRibbon|Lager|2017-01-04|       8|     74.95|    599.60|\n",
      "+-------+-------------+-----+----------+--------+----------+----------+\n",
      "\n"
     ]
    }
   ],
   "source": [
    "# Build some dummy data via Pemi and do operations in spark\n",
    "\n",
    "import pemi\n",
    "import pemi.data\n",
    "\n",
    "    \n",
    "\n",
    "sales_schema = {\n",
    "    'beer_id':  {'ftype': 'integer', 'required': True},\n",
    "    'sold_at':  {'ftype': 'date', 'in_format': '%m/%d/%Y', 'required': True},\n",
    "    'quantity': {'ftype': 'integer', 'required': True}\n",
    "}\n",
    "\n",
    "beers_schema = {\n",
    "    'id':       {'ftype': 'integer', 'required': True},\n",
    "    'name':     {'ftype': 'string', 'required': True},\n",
    "    'style':    {'ftype': 'string'},\n",
    "    'abv':      {'ftype': 'float'},\n",
    "    'price':    {'ftype': 'decimal', 'precision': 16, 'scale': 2}\n",
    "}\n",
    " \n",
    "sales_table = pemi.data.Table(\n",
    "    '''\n",
    "    | beer_id | sold_at    | quantity |\n",
    "    | -       | -          | -        |\n",
    "    | 1       | 01/01/2017 | 3        |\n",
    "    | 2       | 01/02/2017 | 3        |\n",
    "    | 3       | 01/03/2017 | 5        |\n",
    "    | 4       | 01/04/2017 | 8        |\n",
    "    | 5       | 01/04/2017 | 6        |\n",
    "    | 1       | 01/06/2017 | 1        |\n",
    "    ''',\n",
    "    schema=sales_schema,\n",
    "    fake_with={\n",
    "        'beer_id': { 'valid': lambda: pemi.data.fake.random_int(1,4) },\n",
    "        'sold_at': { 'valid': lambda: pemi.data.fake.date_time_this_decade().date() },\n",
    "        'quantity': {'valid': lambda: pemi.data.fake.random_int(1,100) },\n",
    "        'bumpkin': { 'valid': lambda: pemi.data.fake.word(['bumpkin A', 'bumpkin B', 'bumpkin C']) }\n",
    "    }\n",
    ")\n",
    "\n",
    "\n",
    "beers_table = pemi.data.Table(\n",
    "    '''\n",
    "    | id | name          | style |\n",
    "    | -  | -             | -     |\n",
    "    | 1  | SpinCyle      | IPA   |\n",
    "    | 2  | OldStyle      | Pale  |\n",
    "    | 3  | Pipewrench    | IPA   |\n",
    "    | 4  | AbstRedRibbon | Lager |\n",
    "    ''',\n",
    "    schema=beers_schema,\n",
    "    fake_with={\n",
    "        'abv': {'valid': lambda: pemi.data.fake.pydecimal(2, 2, positive=True)},\n",
    "        'price': {'valid': lambda: pemi.data.fake.pydecimal(2, 2, positive=True)}\n",
    "    }\n",
    ")\n",
    "\n",
    "beers_df = spark.createDataFrame(beers_table.df)\n",
    "sales_df = spark.createDataFrame(sales_table.df)\n",
    "sales_df.show()\n",
    "beers_df.show()\n",
    "\n",
    "\n",
    "beers_df.createOrReplaceTempView('beers')\n",
    "sales_df.createOrReplaceTempView('sales')\n",
    "\n",
    "beer_sales_df = spark.sql('''\n",
    "    SELECT\n",
    "      sales.beer_id,\n",
    "      beers.name,\n",
    "      beers.style,\n",
    "      sales.sold_at,\n",
    "      sales.quantity,\n",
    "      CAST(beers.price as decimal(10, 2)) AS unit_price,\n",
    "      CAST(beers.price * sales.quantity AS DECIMAL(10,2)) AS sell_price\n",
    "    FROM\n",
    "      sales\n",
    "    LEFT JOIN\n",
    "      beers\n",
    "    ON\n",
    "      sales.beer_id = beers.id\n",
    "''')\n",
    "\n",
    "beer_sales_df.show()"
   ]
  },
  {
   "cell_type": "code",
   "execution_count": 14,
   "metadata": {},
   "outputs": [
    {
     "name": "stdout",
     "output_type": "stream",
     "text": [
      "CPU times: user 10 ms, sys: 10 ms, total: 20 ms\n",
      "Wall time: 13.8 s\n"
     ]
    }
   ],
   "source": [
    "%%time\n",
    "# Read some large data from CSV files (10M records) that I've confirmed is too large for Pandas\n",
    "\n",
    "headers = [\n",
    "    'rad_key',\n",
    "    'distributor_key',\n",
    "    'retailer_key',\n",
    "    'item_key',\n",
    "    'txn_date',\n",
    "    'invoice_nbr',\n",
    "    'outlet_key',\n",
    "    'distributor_sales_rep_key',\n",
    "    'distributor_item_nbr',\n",
    "    'quantity_cases',\n",
    "    'quantity_bottles',\n",
    "    'bottles_per_case',\n",
    "    'physical_cases',\n",
    "    'nine_liters_per_physical_case',\n",
    "    'nine_liter_cases',\n",
    "    'ext_price',\n",
    "    'ext_price_2',\n",
    "    'bottle_deposit_amt',\n",
    "    'tax_amt',\n",
    "    'additional_charges_amt',\n",
    "    'source_file',\n",
    "    'row_hash',\n",
    "    'rpt_current_ind',\n",
    "    'rpt_from_dt',\n",
    "    'rpt_thru_dt'    \n",
    "]\n",
    "\n",
    "fields = [StructField(field_name, StringType(), True) for field_name in headers]\n",
    "schema = StructType(fields)\n",
    "\n",
    "df = spark.read.csv(\"/tmp/data/largeRAD\", header=False, sep='|', schema=schema)\n",
    "df.createOrReplaceTempView('rad')\n",
    "\n",
    "#df.write.csv('/tmp/data/largeRADOut.csv', mode='overwrite', header=False)\n",
    "\n",
    "pd_df = spark.sql('SELECT distributor_key, COUNT(*) AS n, SUM(ext_price) AS ext_price FROM rad GROUP BY 1').toPandas()\n"
   ]
  }
 ],
 "metadata": {
  "kernelspec": {
   "display_name": "Python 3",
   "language": "python",
   "name": "python3"
  },
  "language_info": {
   "codemirror_mode": {
    "name": "ipython",
    "version": 3
   },
   "file_extension": ".py",
   "mimetype": "text/x-python",
   "name": "python",
   "nbconvert_exporter": "python",
   "pygments_lexer": "ipython3",
   "version": "3.6.2"
  }
 },
 "nbformat": 4,
 "nbformat_minor": 2
}
